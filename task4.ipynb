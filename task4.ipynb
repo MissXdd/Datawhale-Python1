{
 "cells": [
  {
   "cell_type": "markdown",
   "metadata": {},
   "source": [
    "## 1. 函数\n",
    "#### 1） 函数定义\n",
    "    函数代码块以 def 关键词开头，后接函数标识符名称和圆括号()。  \n",
    "    任何传入参数和自变量必须放在圆括号中间。圆括号之间可以用于定义参数。\n",
    "    函数的第一行语句可以选择性地使用文档字符串—用于存放函数说明。\n",
    "    函数内容以冒号起始，并且缩进。\n",
    "    return [表达式] 结束函数，选择性地返回一个值给调用方。不带表达式的return相当于返回 None。\n",
    "    \n",
    "\n",
    "def functionname( parameters ):  \n",
    "   \"函数_文档字符串\"  \n",
    "   function_suite  \n",
    "   return [expression]  \n",
    "   \n",
    "    默认情况下，参数值和参数名称是按函数声明中定义的顺序匹配起来的。\n",
    "    \n",
    "实例："
   ]
  },
  {
   "cell_type": "code",
   "execution_count": 1,
   "metadata": {},
   "outputs": [],
   "source": [
    "def printme(str):\n",
    "    print(str)\n",
    "    return"
   ]
  },
  {
   "cell_type": "code",
   "execution_count": 2,
   "metadata": {},
   "outputs": [
    {
     "name": "stdout",
     "output_type": "stream",
     "text": [
      "123\n"
     ]
    }
   ],
   "source": [
    "printme(123)"
   ]
  },
  {
   "cell_type": "markdown",
   "metadata": {},
   "source": [
    "#### 2）函数的定义\n",
    "    函数能提高应用的模块性，和代码的重复利用率。你已经知道Python提供了许多内建函数，比如print()。但你也可以自己创建函数，这被叫做用户自定义函数。\n",
    "#### 3）函数的参数与作用域\n",
    "以下是调用函数时可使用的正式参数类型：\n",
    "\n",
    "    必备参数\n",
    "    关键字参数\n",
    "    默认参数\n",
    "    不定长参数\n",
    "\n",
    "##### 必备参数\n",
    "\n",
    "    必备参数须以正确的顺序传入函数。调用时的数量必须和声明时的一样。\n",
    "    调用printme()函数，你必须传入一个参数，不然会出现语法错误。\n",
    "\n",
    "##### 关键字参数\n",
    "\n",
    "    关键字参数和函数调用关系紧密，函数调用使用关键字参数来确定传入的参数值。\n",
    "    使用关键字参数允许函数调用时参数的顺序与声明时不一致，因为 Python 解释器能够用参数名匹配参数值。\n",
    "    \n",
    "##### 默认参数\n",
    "\n",
    "    调用函数时，默认参数的值如果没有传入，则被认为是默认值。\n",
    "    \n",
    "##### 不定长参数\n",
    "\n",
    "    你可能需要一个函数能处理比当初声明时更多的参数。这些参数叫做不定长参数，和上述2种参数不同，声明时不会命名。基本语法如下：\n",
    "    \n",
    "def functionname([formal_args,] *var_args_tuple ):  \n",
    "   \"函数_文档字符串\"  \n",
    "   function_suite  \n",
    "   return [expression]  \n",
    "\n",
    "    加了星号（*）的变量名会存放所有未命名的变量参数。"
   ]
  },
  {
   "cell_type": "markdown",
   "metadata": {},
   "source": [
    "## 2. File\n",
    "open() 方法\n",
    "\n",
    "    Python open() 方法用于打开一个文件，并返回文件对象，在对文件进行处理过程都需要使用到这个函数，如果该文件无法被打开，会抛出 OSError。\n",
    "    注意：使用 open() 方法一定要保证关闭文件对象，即调用 close() 方法。\n",
    "    open() 函数常用形式是接收两个参数：文件名(file)和模式(mode)。\n",
    "\n",
    "open(file, mode='r')\n",
    "\n",
    "    完整的语法格式为：\n",
    "\n",
    "open(file, mode='r', buffering=-1, encoding=None, errors=None, newline=None, closefd=True, opener=None)\n",
    "\n",
    "参数说明:\n",
    "\n",
    "    file: 必需，文件路径（相对或者绝对路径）。\n",
    "    mode: 可选，文件打开模式\n",
    "    buffering: 设置缓冲\n",
    "    encoding: 一般使用utf8\n",
    "    errors: 报错级别\n",
    "    newline: 区分换行符\n",
    "    closefd: 传入的file参数类型\n",
    "    opener:\n",
    "\n",
    "file 对象\n",
    "\n",
    "    file 对象使用 open 函数来创建，下表列出了 file 对象常用的函数： \n",
    "    \n",
    "file.close()  \n",
    "关闭文件。关闭后文件不能再进行读写操作。\t\n",
    "\n",
    "file.flush()  \n",
    "刷新文件内部缓冲，直接把内部缓冲区的数据立刻写入文件, 而不是被动的等待输出缓冲区写入。\t\n",
    "\n",
    "file.fileno()  \n",
    "返回一个整型的文件描述符(file descriptor FD 整型), 可以用在如os模块的read方法等一些底层操作上。\t\n",
    "\n",
    "file.isatty()  \n",
    "如果文件连接到一个终端设备返回 True，否则返回 False。\t\n",
    "\n",
    "file.next()  \n",
    "返回文件下一行。  \n",
    "\n",
    "file.read([size])  \n",
    "从文件读取指定的字节数，如果未给定或为负则读取所有。\t\n",
    "\n",
    "file.readline([size])  \n",
    "读取整行，包括 \"\\n\" 字符。\t\n",
    "\n",
    "file.readlines([sizeint])  \n",
    "读取所有行并返回列表，若给定sizeint>0，则是设置一次读多少字节，这是为了减轻读取压力。\t\n",
    "\n",
    "file.seek(offset[, whence])  \n",
    "设置文件当前位置\t\n",
    "\n",
    "file.tell()  \n",
    "返回文件当前位置。\t\n",
    "\n",
    "file.truncate([size])  \n",
    "截取文件，截取的字节通过size指定，默认为当前文件位置。\t\n",
    "\n",
    "file.write(str)  \n",
    "将字符串写入文件，返回的是写入的字符长度。\t\n",
    "\n",
    "file.writelines(sequence)  \n",
    "向文件写入一个序列字符串列表，如果需要换行则要自己加入每行的换行符。"
   ]
  }
 ],
 "metadata": {
  "kernelspec": {
   "display_name": "Python 3",
   "language": "python",
   "name": "python3"
  },
  "language_info": {
   "codemirror_mode": {
    "name": "ipython",
    "version": 3
   },
   "file_extension": ".py",
   "mimetype": "text/x-python",
   "name": "python",
   "nbconvert_exporter": "python",
   "pygments_lexer": "ipython3",
   "version": "3.7.3"
  }
 },
 "nbformat": 4,
 "nbformat_minor": 2
}
