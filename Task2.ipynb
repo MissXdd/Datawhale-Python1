{
 "cells": [
  {
   "cell_type": "markdown",
   "metadata": {},
   "source": [
    "## 1.列表  \n",
    "#### 1)标志\n",
    "列表是Python中最基本的数据结构。列表中的每个元素都分配一个数字 - 它的位置，或索引，第一个索引是0，第二个索引是1，依此类推。"
   ]
  },
  {
   "cell_type": "code",
   "execution_count": 1,
   "metadata": {},
   "outputs": [],
   "source": [
    "list1 = [1, 2, 3, 4, 5]\n",
    "list2 = ['a','b','c']\n",
    "list3 = ['apple',123,'a']"
   ]
  },
  {
   "cell_type": "markdown",
   "metadata": {},
   "source": [
    "#### 2)基本操作(创建，append(),pop(),del(),拷贝)\n",
    "(1). append()  \n",
    "通过append()来添加列表项（添加至末尾）"
   ]
  },
  {
   "cell_type": "code",
   "execution_count": 2,
   "metadata": {},
   "outputs": [
    {
     "name": "stdout",
     "output_type": "stream",
     "text": [
      "['Hello', 'Python']\n"
     ]
    }
   ],
   "source": [
    "list = []       \n",
    "list.append('Hello') \n",
    "list.append('Python')  \n",
    "print(list)"
   ]
  },
  {
   "cell_type": "markdown",
   "metadata": {},
   "source": [
    "(2). del  \n",
    "可以使用 del 语句来删除列表的元素  \n",
    "使用方法：#del list[索引值]"
   ]
  },
  {
   "cell_type": "code",
   "execution_count": 3,
   "metadata": {},
   "outputs": [
    {
     "name": "stdout",
     "output_type": "stream",
     "text": [
      "['1', '2', 'a', 'c']\n",
      "['1', '2', 'c']\n"
     ]
    }
   ],
   "source": [
    "list= ['1', '2', 'a', 'c']\n",
    "print(list)\n",
    "del list[2]\n",
    "print(list)"
   ]
  },
  {
   "cell_type": "markdown",
   "metadata": {},
   "source": [
    "(3).pop()  \n",
    "通过pop()可以删除列表末尾的元素，并且能够接着使用它。"
   ]
  },
  {
   "cell_type": "code",
   "execution_count": 4,
   "metadata": {},
   "outputs": [
    {
     "name": "stdout",
     "output_type": "stream",
     "text": [
      "['zhang', 'xu']\n",
      "['zhang']\n"
     ]
    }
   ],
   "source": [
    "list= ['zhang','wang','xu']\n",
    "list.pop(1) \n",
    "print(list)\n",
    "list.pop() \n",
    "print(list)"
   ]
  },
  {
   "cell_type": "markdown",
   "metadata": {},
   "source": [
    "(4). copy()  \n",
    "copy函数用于复制列表,使用：list.copy()"
   ]
  },
  {
   "cell_type": "code",
   "execution_count": 5,
   "metadata": {},
   "outputs": [
    {
     "name": "stdout",
     "output_type": "stream",
     "text": [
      "['a', 'b', 'c', 'd']\n"
     ]
    }
   ],
   "source": [
    "list= ['a', 'b', 'c', 'd']\n",
    "text=list.copy()\n",
    "print(text)"
   ]
  },
  {
   "cell_type": "markdown",
   "metadata": {},
   "source": [
    "#### 3)列表相关方法\n",
    "(1).remove  \n",
    "移除第一次出现目标对象，只接受一个必备参数object。返回值为None。  \n",
    "与pop的区别：pop是按索引移除，remove是按照object移除；pop的返回值为被移除的object，remove返回值为None。两者都是每次只移除一个object。\n",
    "\n",
    "(2).sort  \n",
    "按照指定方法进行永久性的排序。默认值key = None ，reverse = False ，key 即排序方法，可接受自定义的排序方式；reverse 为 False 是不反向，若要反向将reverse 改为 True 。 \n",
    "使用方法 ： list.sort() 、\n",
    "\n",
    "(3).index()  \n",
    "列表list中第一次出现元素value的位置。  \n",
    "使用方法：list.index(value, start, stop) ——返回一个整数"
   ]
  },
  {
   "cell_type": "markdown",
   "metadata": {},
   "source": [
    "## 2.元组\n",
    "#### 1)标志\n",
    "元组使用小括号()，列表使用方括号[]。  \n",
    "#### 2)基本操作(创建及不可变性)\n",
    "(1). 创建  \n",
    "元组中只包含一个元素时，需要在元素后面添加逗号，否则括号会被当作运算符使用\n",
    "(2).不可变性\n",
    "列表是可变的，而元组是不可变的。这是在 Python 语言中二者唯一的差别。（例如列表可以通过append() 的方法来添加更多的元素，而元组却没有这个方法）"
   ]
  },
  {
   "cell_type": "code",
   "execution_count": 6,
   "metadata": {},
   "outputs": [
    {
     "name": "stdout",
     "output_type": "stream",
     "text": [
      "(1, 2, 3)\n",
      "1\n",
      "(1,)\n"
     ]
    }
   ],
   "source": [
    "a=(1,2,3)\n",
    "b=(1)\n",
    "c=(1,)\n",
    "print(a)\n",
    "print(b)\n",
    "print(c)"
   ]
  },
  {
   "cell_type": "markdown",
   "metadata": {},
   "source": [
    "## 3.string字符串\n",
    "#### 1)定义及基本操作(+，*，读取方式)"
   ]
  },
  {
   "cell_type": "code",
   "execution_count": 7,
   "metadata": {},
   "outputs": [
    {
     "name": "stdout",
     "output_type": "stream",
     "text": [
      "abc123\n",
      "abc123abc123abc123\n"
     ]
    }
   ],
   "source": [
    "a='abc'\n",
    "b='123'\n",
    "c=a+b\n",
    "d=c*3\n",
    "print(c)\n",
    "print(d)"
   ]
  },
  {
   "cell_type": "markdown",
   "metadata": {},
   "source": [
    "#### 2)字符串相关方法\n",
    "\n",
    "(1).字符串不能直接与其他类型拼接在一起，只能转换成字符串以后再进行拼接。\n",
    "(2).字符串单个访问str[],起始位置为0\n",
    "(3).len() 方法返回对象（字符、列表、元组等）长度或项目个数。\n",
    "(4).eval() 函数用来执行一个字符串表达式，并返回表达式的值。\n",
    "(5).string.lower() 转换 string 中所有大写字符为小写.\n",
    "(6).string.index(str, beg=0, end=len(string)) .寻找str是否在字符串中\n",
    "## 4.字符串格式化问题\n",
    "在python中格式化输出字符串使用的是%运算符"
   ]
  },
  {
   "cell_type": "code",
   "execution_count": 8,
   "metadata": {},
   "outputs": [
    {
     "name": "stdout",
     "output_type": "stream",
     "text": [
      "1 2 3 abc ['one', 'two', 'three']\n"
     ]
    }
   ],
   "source": [
    "print('%s %s %s' % ('1 2 3','abc',['one', 'two', 'three']))"
   ]
  },
  {
   "cell_type": "markdown",
   "metadata": {},
   "source": [
    "其他的格式化方法：  \n",
    "\n",
    "整型数：%d  \n",
    "无符号整型数：%u  \n",
    "八进制：%o  \n",
    "十六进制：%x %X  \n",
    "浮点数：%f  \n",
    "科学记数法: %e  "
   ]
  }
 ],
 "metadata": {
  "kernelspec": {
   "display_name": "Python 3",
   "language": "python",
   "name": "python3"
  },
  "language_info": {
   "codemirror_mode": {
    "name": "ipython",
    "version": 3
   },
   "file_extension": ".py",
   "mimetype": "text/x-python",
   "name": "python",
   "nbconvert_exporter": "python",
   "pygments_lexer": "ipython3",
   "version": "3.7.3"
  }
 },
 "nbformat": 4,
 "nbformat_minor": 2
}
