{
 "cells": [
  {
   "cell_type": "markdown",
   "metadata": {},
   "source": [
    "## 1. Dict字典\n",
    "#### 1） 定义  \n",
    "dict也是一种存储方式，类似于list和tuple，但是，字典采用键—值（key—value）的形式存储。  \n",
    "###### 优点：具有极快的查找速度。\n",
    "#### 2） 创建\n",
    "语法：  \n",
    "字典名 = {键1：值1，键2：值2，…}  \n"
   ]
  },
  {
   "cell_type": "code",
   "execution_count": 1,
   "metadata": {},
   "outputs": [
    {
     "name": "stdout",
     "output_type": "stream",
     "text": [
      "{'tom': 90, 'lili': 78, 'lele': 92}\n",
      "{'a': 1, 'b': 2, 'c': 3}\n"
     ]
    }
   ],
   "source": [
    "dist1 = {'tom':90,'lili':78, 'lele':92}\n",
    "print(dist1)\n",
    "print(dict(a=1,b=2,c=3))"
   ]
  },
  {
   "cell_type": "markdown",
   "metadata": {},
   "source": [
    "#### 3） 字典的方法\n",
    "##### 3.1访问元素\n",
    "语法：元素 = 字典名[key]  \n",
    "注意：在key不存在的情况下，会报错。\n",
    "\n",
    "    语法： 元素 = 字典名.get(key)\n",
    "\n",
    "    功能：使用get的方法获取值，若key存在，则返回value的值，若key不存在则返回None\n"
   ]
  },
  {
   "cell_type": "code",
   "execution_count": 2,
   "metadata": {},
   "outputs": [
    {
     "name": "stdout",
     "output_type": "stream",
     "text": [
      "90\n"
     ]
    }
   ],
   "source": [
    "dist1 = {'tom':90,'lili':78, 'lele':92}\n",
    "print(dist1['tom'])"
   ]
  },
  {
   "cell_type": "markdown",
   "metadata": {},
   "source": [
    "##### 3.2 添加元素\n",
    "\n",
    "    语法：字典名[key] = value\n"
   ]
  },
  {
   "cell_type": "code",
   "execution_count": 3,
   "metadata": {},
   "outputs": [
    {
     "name": "stdout",
     "output_type": "stream",
     "text": [
      "{'tom': 90, 'lili': 78, 'lele': 92, 'lisi': 89}\n"
     ]
    }
   ],
   "source": [
    "dist1 = {'tom':90,'lili':78, 'lele':92}\n",
    "dist1['lisi'] = 89\n",
    "print(dist1)"
   ]
  },
  {
   "cell_type": "markdown",
   "metadata": {},
   "source": [
    " 注意：一个key只能对应一个value，多次对一个key的value赋值，后面的值会把前面的值覆盖掉。\n",
    "##### 3.3 删除元素\n",
    "\n",
    "    语法：字典名.pop(key)\n"
   ]
  },
  {
   "cell_type": "code",
   "execution_count": 4,
   "metadata": {},
   "outputs": [
    {
     "name": "stdout",
     "output_type": "stream",
     "text": [
      "90\n",
      "{'lili': 78, 'lele': 92}\n"
     ]
    }
   ],
   "source": [
    "dist1 = {'tom':90,'lili':78, 'lele':92}\n",
    "print(dist1.pop('tom'))\n",
    "print(dist1)"
   ]
  },
  {
   "cell_type": "markdown",
   "metadata": {},
   "source": [
    "## 2. 集合\n",
    "\n",
    "#### 1）特性\n",
    "集合（set）是一个无序的不重复元素序列。  \n",
    "#### 2）创建\n",
    "可以使用大括号 { } 或者 set() 函数创建集合，注意：创建一个空集合必须用 set() 而不是 { }，因为 { } 是用来创建一个空字典  \n",
    " 创建格式：  \n",
    "\n",
    "    parame = {value01,value02,...}  \n",
    "    或者  \n",
    "    set(value)  \n",
    "   \n",
    "#### 3）方法\n",
    "1、添加元素  \n",
    "\n",
    "语法格式如下：  \n",
    "\n",
    "s.add( x )  \n",
    "\n",
    "将元素 x 添加到集合 s 中，如果元素已存在，则不进行任何操作。"
   ]
  },
  {
   "cell_type": "code",
   "execution_count": 5,
   "metadata": {},
   "outputs": [
    {
     "name": "stdout",
     "output_type": "stream",
     "text": [
      "{'Google', 'Taobao', 'Facebook', 'Runoob'}\n"
     ]
    }
   ],
   "source": [
    "prac = set((\"Google\", \"Runoob\", \"Taobao\"))\n",
    "prac.add(\"Facebook\")\n",
    "print(prac)"
   ]
  },
  {
   "cell_type": "markdown",
   "metadata": {},
   "source": [
    "2、移除元素  \n",
    "\n",
    "语法格式如下：  \n",
    "\n",
    "s.remove( x )  \n",
    "\n",
    "将元素 x 从集合 s 中移除，如果元素不存在，则会发生错误。"
   ]
  },
  {
   "cell_type": "code",
   "execution_count": 6,
   "metadata": {},
   "outputs": [
    {
     "name": "stdout",
     "output_type": "stream",
     "text": [
      "{'Taobao', 'Facebook', 'Runoob'}\n"
     ]
    }
   ],
   "source": [
    "prac.remove(\"Google\")\n",
    "print(prac)"
   ]
  },
  {
   "cell_type": "code",
   "execution_count": 7,
   "metadata": {},
   "outputs": [
    {
     "name": "stdout",
     "output_type": "stream",
     "text": [
      "{'Taobao', 'Facebook'}\n"
     ]
    }
   ],
   "source": [
    "prac.discard(\"Runoob\")\n",
    "print(prac)"
   ]
  },
  {
   "cell_type": "markdown",
   "metadata": {},
   "source": [
    "我们也可以设置随机删除集合中的一个元素，语法格式如下：  \n",
    "\n",
    "s.pop()   \n",
    "\n",
    "多次执行测试结果都不一样。  \n",
    "\n",
    "然而在交互模式，pop 是删除集合的第一个元素（排序后的集合的第一个元素）。 "
   ]
  },
  {
   "cell_type": "markdown",
   "metadata": {},
   "source": [
    "3、计算集合元素个数\n",
    "\n",
    "语法格式如下：\n",
    "\n",
    "len(s)\n",
    "\n",
    "计算集合 s 元素个数。"
   ]
  },
  {
   "cell_type": "code",
   "execution_count": 8,
   "metadata": {},
   "outputs": [
    {
     "data": {
      "text/plain": [
       "2"
      ]
     },
     "execution_count": 8,
     "metadata": {},
     "output_type": "execute_result"
    }
   ],
   "source": [
    "len(prac)"
   ]
  },
  {
   "cell_type": "markdown",
   "metadata": {},
   "source": [
    "4、清空集合\n",
    "\n",
    "语法格式如下：\n",
    "\n",
    "s.clear()\n",
    "\n",
    "清空集合 s。"
   ]
  },
  {
   "cell_type": "code",
   "execution_count": 9,
   "metadata": {},
   "outputs": [
    {
     "name": "stdout",
     "output_type": "stream",
     "text": [
      "set()\n"
     ]
    }
   ],
   "source": [
    "prac.clear()\n",
    "print(prac)"
   ]
  },
  {
   "cell_type": "markdown",
   "metadata": {},
   "source": [
    "4、判断元素是否在集合中存在\n",
    "\n",
    "语法格式如下：\n",
    "\n",
    "x in s\n",
    "\n",
    "判断元素 x 是否在集合 s 中，存在返回 True，不存在返回 False。"
   ]
  },
  {
   "cell_type": "markdown",
   "metadata": {},
   "source": [
    "## 3. 判断语句\n",
    "Python条件语句是通过一条或多条语句的执行结果（True或者False）来决定执行的代码块。  \n",
    "\n",
    "Python程序语言指定任何非0和非空（null）值为true，0 或者 null为false。  \n",
    "\n",
    "Python 编程中 if 语句用于控制程序的执行，基本形式为：  \n",
    "\n",
    "if 判断条件：  \n",
    "    执行语句……  \n",
    "else：  \n",
    "    执行语句……  \n",
    "    \n",
    "    其中\"判断条件\"成立时（非零），则执行后面的语句，而执行内容可以多行，以缩进来区分表示同一范围。\n",
    "\n",
    "    else 为可选语句，当需要在条件不成立时执行内容则可以执行相关语句。"
   ]
  },
  {
   "cell_type": "code",
   "execution_count": 10,
   "metadata": {},
   "outputs": [
    {
     "name": "stdout",
     "output_type": "stream",
     "text": [
      "luren\n"
     ]
    }
   ],
   "source": [
    "flag = False\n",
    "name = 'luren'\n",
    "if name == 'python':         # 判断变量是否为 python \n",
    "    flag = True              # 条件成立时设置标志为真\n",
    "    print('welcome boss')     # 并输出欢迎信息\n",
    "else:\n",
    "    print (name)              # 条件不成立时输出变量名称"
   ]
  },
  {
   "cell_type": "markdown",
   "metadata": {},
   "source": [
    "if 语句的判断条件可以用>（大于）、<(小于)、==（等于）、>=（大于等于）、<=（小于等于）来表示其关系。\n",
    "\n",
    "当判断条件为多个值时，可以使用以下形式：\n",
    "\n",
    "if 判断条件1:  \n",
    "    执行语句1……  \n",
    "elif 判断条件2:  \n",
    "    执行语句2……  \n",
    "elif 判断条件3:  \n",
    "    执行语句3……  \n",
    "else:  \n",
    "    执行语句4……  "
   ]
  },
  {
   "cell_type": "code",
   "execution_count": 11,
   "metadata": {},
   "outputs": [
    {
     "name": "stdout",
     "output_type": "stream",
     "text": [
      "roadman\n"
     ]
    }
   ],
   "source": [
    "num = 5     \n",
    "if num == 3:            # 判断num的值\n",
    "    print( 'boss')        \n",
    "elif num == 2:\n",
    "    print ('user')\n",
    "elif num == 1:\n",
    "    print ('worker')\n",
    "elif num < 0:           # 值小于零时输出\n",
    "    print ('error')\n",
    "else:\n",
    "    print ('roadman')     # 条件均不成立时输出"
   ]
  },
  {
   "cell_type": "markdown",
   "metadata": {},
   "source": [
    "由于 python 并不支持 switch 语句，所以多个条件判断，只能用 elif 来实现，如果判断需要多个条件需同时判断时，可以使用 or （或），表示两个条件有一个成立时判断条件成功；使用 and （与）时，表示只有两个条件同时成立的情况下，判断条件才成功。"
   ]
  },
  {
   "cell_type": "markdown",
   "metadata": {},
   "source": [
    "## 4.三目表达式\n",
    "一般支持三目运算符的语言（如C语言）的语法格式一般是这样的：\n",
    "\n",
    "###### 判断条件（返回布尔值）？为真时的结果：为假时的结果\n",
    "\n",
    "比如：\n",
    "\n",
    "x = x%2==1 ? x+1:x;\n",
    "\n",
    "python并不支持? :这种符号所表达的先判断再选择的含义，但仍然有相应的语法支持：\n",
    "\n",
    "###### 为真时的结果 if 判断条件 else 为假时的结果（注意，没有冒号）\n",
    "\n",
    "例如：\n",
    "\n",
    "如果77大于66，输出100，否则输出99"
   ]
  },
  {
   "cell_type": "code",
   "execution_count": 12,
   "metadata": {},
   "outputs": [
    {
     "data": {
      "text/plain": [
       "100"
      ]
     },
     "execution_count": 12,
     "metadata": {},
     "output_type": "execute_result"
    }
   ],
   "source": [
    " 100 if 77 > 66 else 99"
   ]
  },
  {
   "cell_type": "markdown",
   "metadata": {},
   "source": [
    "## 5.循环语句\n",
    "Python for 循环语句\n",
    "\n",
    "Python for循环可以遍历任何序列的项目，如一个列表或者一个字符串。\n",
    "\n",
    "语法：\n",
    "\n",
    "for循环的语法格式如下：  \n",
    "\n",
    "for iterating_var in sequence:\n",
    "\n",
    "   statements(s)"
   ]
  },
  {
   "cell_type": "code",
   "execution_count": 13,
   "metadata": {},
   "outputs": [
    {
     "name": "stdout",
     "output_type": "stream",
     "text": [
      "当前字母 : P\n",
      "当前字母 : y\n",
      "当前字母 : t\n",
      "当前字母 : h\n",
      "当前字母 : o\n",
      "当前字母 : n\n",
      "当前水果 : banana\n",
      "当前水果 : apple\n",
      "当前水果 : mango\n"
     ]
    }
   ],
   "source": [
    "for letter in ('Python'):     # 第一个实例\n",
    "   print ('当前字母 :', letter)\n",
    " \n",
    "fruits = ['banana', 'apple',  'mango']\n",
    "for fruit in fruits:        # 第二个实例\n",
    "   print ('当前水果 :', fruit)"
   ]
  }
 ],
 "metadata": {
  "kernelspec": {
   "display_name": "Python 3",
   "language": "python",
   "name": "python3"
  },
  "language_info": {
   "codemirror_mode": {
    "name": "ipython",
    "version": 3
   },
   "file_extension": ".py",
   "mimetype": "text/x-python",
   "name": "python",
   "nbconvert_exporter": "python",
   "pygments_lexer": "ipython3",
   "version": "3.7.3"
  }
 },
 "nbformat": 4,
 "nbformat_minor": 2
}
